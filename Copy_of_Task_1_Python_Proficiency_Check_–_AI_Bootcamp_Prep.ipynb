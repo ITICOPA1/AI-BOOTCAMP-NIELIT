{
  "nbformat": 4,
  "nbformat_minor": 0,
  "metadata": {
    "colab": {
      "provenance": []
    },
    "kernelspec": {
      "name": "python3",
      "display_name": "Python 3"
    },
    "language_info": {
      "name": "python"
    }
  },
  "cells": [
    {
      "cell_type": "markdown",
      "source": [
        "# Task 1: Python Proficiency Check – AI Bootcamp Prep"
      ],
      "metadata": {
        "id": "L982FdumDCVn"
      }
    },
    {
      "cell_type": "markdown",
      "source": [
        "## Section 1: Basics & Control Flow"
      ],
      "metadata": {
        "id": "gk9AwRFXDO6n"
      }
    },
    {
      "cell_type": "markdown",
      "source": [
        "### **Task 1**: FizzBuzz with a Twist\n",
        "\n",
        "*Instruction*: Write a function that prints numbers from 1 to 50. For multiples of 3, print \"AI\", for multiples of 5 print \"Bootcamp\", and for multiples of both 3 and 5 print \"AI Bootcamp\"."
      ],
      "metadata": {
        "id": "tG2LLFb4DSrf"
      }
    },
    {
      "cell_type": "code",
      "source": [
        "def fizzbuzz_ai_bootcamp():\n",
        "  for i in range (1,51):\n",
        "    if i%3==0 and i%5==0:\n",
        "      print(f\"{i}=AI BOOTCAMP\")\n",
        "    elif i%5==0:\n",
        "      print(f\"{i}=BOOTCAMP\")\n",
        "    elif i%3==0:\n",
        "      print(f\"{i}=AI\")\n",
        "    else:\n",
        "      print(i)\n",
        "fizzbuzz_ai_bootcamp()"
      ],
      "metadata": {
        "id": "G6YtbgenDSWH",
        "colab": {
          "base_uri": "https://localhost:8080/"
        },
        "outputId": "92d35550-d2cd-44fa-9fc3-92f600475408"
      },
      "execution_count": null,
      "outputs": [
        {
          "output_type": "stream",
          "name": "stdout",
          "text": [
            "1\n",
            "2\n",
            "3=AI\n",
            "4\n",
            "5=BOOTCAMP\n",
            "6=AI\n",
            "7\n",
            "8\n",
            "9=AI\n",
            "10=BOOTCAMP\n",
            "11\n",
            "12=AI\n",
            "13\n",
            "14\n",
            "15=AI BOOTCAMP\n",
            "16\n",
            "17\n",
            "18=AI\n",
            "19\n",
            "20=BOOTCAMP\n",
            "21=AI\n",
            "22\n",
            "23\n",
            "24=AI\n",
            "25=BOOTCAMP\n",
            "26\n",
            "27=AI\n",
            "28\n",
            "29\n",
            "30=AI BOOTCAMP\n",
            "31\n",
            "32\n",
            "33=AI\n",
            "34\n",
            "35=BOOTCAMP\n",
            "36=AI\n",
            "37\n",
            "38\n",
            "39=AI\n",
            "40=BOOTCAMP\n",
            "41\n",
            "42=AI\n",
            "43\n",
            "44\n",
            "45=AI BOOTCAMP\n",
            "46\n",
            "47\n",
            "48=AI\n",
            "49\n",
            "50=BOOTCAMP\n"
          ]
        }
      ]
    },
    {
      "cell_type": "markdown",
      "source": [
        "### **Task 2**: List Comprehensions and Functions\n",
        "\n",
        "*Instruction*: Given a list of numbers, square only the even numbers using a list comprehension and define a function that returns the result."
      ],
      "metadata": {
        "id": "8YMADBQmDhHU"
      }
    },
    {
      "cell_type": "code",
      "execution_count": null,
      "metadata": {
        "colab": {
          "base_uri": "https://localhost:8080/"
        },
        "id": "sPfpD1yF4LTO",
        "outputId": "57e0d21d-ac7f-4c84-ae26-da9019c6ac34"
      },
      "outputs": [
        {
          "output_type": "stream",
          "name": "stdout",
          "text": [
            "\n",
            "square root of  2  =  4\n",
            "\n",
            "square root of  4  =  16\n",
            "\n",
            "square root of  6  =  36\n",
            "None\n"
          ]
        }
      ],
      "source": [
        "def square_evens(numbers):\n",
        "    for i in numbers:\n",
        "        if i%2==0:\n",
        "            print(\"square root of \",i,\" = \",i**2)\n",
        "        else:\n",
        "            print()\n",
        "print(square_evens([1, 2, 3, 4, 5, 6]))"
      ]
    },
    {
      "cell_type": "markdown",
      "source": [
        "## Section 2: Data Structures & File I/O"
      ],
      "metadata": {
        "id": "03CKwCBtDzRL"
      }
    },
    {
      "cell_type": "markdown",
      "source": [
        "### **Task 3**: Word Frequency from a File\n",
        "\n",
        "*Instruction*: Read the provided text file (sample.txt) and return the 5 most common words (ignoring punctuation and case)."
      ],
      "metadata": {
        "id": "oh1W_9m5DuzF"
      }
    },
    {
      "cell_type": "code",
      "source": [
        "from collections import Counter\n",
        "import string\n",
        "def top_5_words(filepath):\n",
        "  with open(filepath,'r') as file:\n",
        "    text=file.read()\n",
        "  text= text.lower()\n",
        "  text=text.translate(str.maketrans('', '', string.punctuation))\n",
        "  words = text.split()\n",
        "  word_counts = Counter(words)\n",
        "  most_common = word_counts.most_common(5)\n",
        "  for word, count in most_common:\n",
        "    print(f\"{word}: {count}\")\n",
        "\n",
        "\n",
        "top_5_words('/content/sample_data/README.md')\n"
      ],
      "metadata": {
        "id": "SQTsWR6GDn6e",
        "colab": {
          "base_uri": "https://localhost:8080/"
        },
        "outputId": "719e7198-88c3-4bec-965d-515a8a29f597"
      },
      "execution_count": null,
      "outputs": [
        {
          "output_type": "stream",
          "name": "stdout",
          "text": [
            "is: 4\n",
            "a: 3\n",
            "the: 3\n",
            "sample: 2\n",
            "at: 2\n"
          ]
        }
      ]
    },
    {
      "cell_type": "markdown",
      "source": [
        "## Section 3: NumPy & pandas"
      ],
      "metadata": {
        "id": "mVV1BgZvEE3a"
      }
    },
    {
      "cell_type": "markdown",
      "source": [
        "### **Task 4**: NumPy Matrix Magic\n",
        "\n",
        "*Instruction*: Create a 5x5 matrix with random integers from 1 to 10. Replace all elements greater than 5 with 0."
      ],
      "metadata": {
        "id": "opUK7Z7LEIr4"
      }
    },
    {
      "cell_type": "code",
      "source": [
        "import numpy as np\n",
        "\n",
        "def matrix_transform():\n",
        "    matrix1=np.random.randint(1,11,size=(5,5))\n",
        "    print(\"Original matrix = \")\n",
        "    print(matrix1)\n",
        "    matrix1 [matrix1>5]=0\n",
        "    print()\n",
        "    print(\"New matrix = \")\n",
        "    print(matrix1)\n",
        "matrix_transform()"
      ],
      "metadata": {
        "id": "UW3FMdjQEEl3",
        "colab": {
          "base_uri": "https://localhost:8080/"
        },
        "outputId": "08aa511c-89a5-4fcc-9781-afb2a547bca3"
      },
      "execution_count": null,
      "outputs": [
        {
          "output_type": "stream",
          "name": "stdout",
          "text": [
            "Original matrix = \n",
            "[[8 3 9 8 3]\n",
            " [7 9 1 1 3]\n",
            " [1 7 3 8 4]\n",
            " [4 6 5 7 1]\n",
            " [9 9 5 6 1]]\n",
            "\n",
            "New matrix = \n",
            "[[0 3 0 0 3]\n",
            " [0 0 1 1 3]\n",
            " [1 0 3 0 4]\n",
            " [4 0 5 0 1]\n",
            " [0 0 5 0 1]]\n"
          ]
        }
      ]
    },
    {
      "cell_type": "markdown",
      "source": [
        "### **Task 5**: pandas DataFrame Manipulation\n",
        "\n",
        "*Instruction*: Given the following dictionary, convert it into a DataFrame, calculate the average score per student, and add it as a new column."
      ],
      "metadata": {
        "id": "YuFv3sE6ET9d"
      }
    },
    {
      "cell_type": "markdown",
      "source": [
        "## Section 4: Visualization & Logic"
      ],
      "metadata": {
        "id": "GNO0DPi3EpgF"
      }
    },
    {
      "cell_type": "code",
      "source": [
        "import pandas as pd\n",
        "\n",
        "data = {\n",
        "    'Name': ['Alice', 'Bob', 'Charlie'],\n",
        "    'Math': [85, 78, 92],\n",
        "    'Science': [90, 88, 84],\n",
        "    'English': [87, 85, 80]\n",
        "}\n",
        "\n",
        "df=pd.DataFrame(data)\n",
        "df[\"Average\"]=df[[\"Math\",\"Science\",\"English\"]].mean(axis=1)\n",
        "print(df)"
      ],
      "metadata": {
        "colab": {
          "base_uri": "https://localhost:8080/"
        },
        "id": "INP0id-BfPhC",
        "outputId": "8da9c549-d203-43e9-b3cc-a095429ae36c"
      },
      "execution_count": 12,
      "outputs": [
        {
          "output_type": "stream",
          "name": "stdout",
          "text": [
            "      Name  Math  Science  English    Average\n",
            "0    Alice    85       90       87  87.333333\n",
            "1      Bob    78       88       85  83.666667\n",
            "2  Charlie    92       84       80  85.333333\n"
          ]
        }
      ]
    },
    {
      "cell_type": "markdown",
      "source": [
        "### **Task 6**: Simple Data Visualization\n",
        "\n",
        "*Instruction*: Use matplotlib to create a bar chart showing the average score per subject from the DataFrame in the previous task."
      ],
      "metadata": {
        "id": "W74DNGaJEtdj"
      }
    },
    {
      "cell_type": "code",
      "source": [
        "import matplotlib.pyplot as plt\n",
        "import pandas as pd\n",
        "\n",
        "data = {\n",
        "    'Name': ['Alice', 'Bob', 'Charlie'],\n",
        "    'Math': [85, 78, 92],\n",
        "    'Science': [90, 88, 84],\n",
        "    'English': [87, 85, 80]\n",
        "}\n",
        "\n",
        "df = pd.DataFrame(data)\n",
        "df[\"Average\"] = df[[\"Math\", \"Science\", \"English\"]].mean(axis=1)\n",
        "\n",
        "# Calculate average score per subject\n",
        "average_scores = df[['Math', 'Science', 'English']].mean()\n",
        "\n",
        "# Create bar chart\n",
        "plt.bar(average_scores.index, average_scores.values)\n",
        "plt.xlabel(\"Subject\")\n",
        "plt.ylabel(\"Average Score\")\n",
        "plt.title(\"Average Score per Subject\")\n",
        "plt.show()\n"
      ],
      "metadata": {
        "id": "aM8iWEAXEOmE"
      },
      "execution_count": null,
      "outputs": []
    },
    {
      "cell_type": "markdown",
      "source": [
        "## Section 5: Mini-Project Challenge"
      ],
      "metadata": {
        "id": "yFxPFagsE9mS"
      }
    },
    {
      "cell_type": "markdown",
      "source": [
        "### **Task 7**: Build a Mini Calculator with Exception Handling\n",
        "\n",
        "*Instruction*: Write a function that takes two numbers and an operator as input (+, -, *, /). Return the result, and handle divide-by-zero and invalid operator cases with appropriate error messages."
      ],
      "metadata": {
        "id": "IZwIOzHXFD1a"
      }
    },
    {
      "cell_type": "code",
      "source": [
        "def calculator(a, b, operator):\n",
        "    try:\n",
        "        if operator == '+':\n",
        "            result = a + b\n",
        "        elif operator == '-':\n",
        "            result = a - b\n",
        "        elif operator == '*':\n",
        "            result = a * b\n",
        "        elif operator == '/':\n",
        "            result = a / b\n",
        "        else:\n",
        "            raise ValueError(\"Invalid operator. Please use +, -, *, or /.\")\n",
        "        return result\n",
        "    except ZeroDivisionError:\n",
        "        return \"Error: Cannot divide by zero.\"\n",
        "    except ValueError as e:\n",
        "        return f\"Error: {e}\"\n",
        "\n",
        "\n",
        "print(calculator(10, 5, '+'))  # Output: 15\n",
        "print(calculator(10, 2, '/'))  # Output: Error: Cannot divide by zero."
      ],
      "metadata": {
        "id": "VpUFTR1JFDWk",
        "colab": {
          "base_uri": "https://localhost:8080/"
        },
        "outputId": "61e0c29c-6d55-4cb9-b449-1819c1396ace"
      },
      "execution_count": 19,
      "outputs": [
        {
          "output_type": "stream",
          "name": "stdout",
          "text": [
            "15\n",
            "5.0\n"
          ]
        }
      ]
    }
  ]
}